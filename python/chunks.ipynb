{
 "cells": [
  {
   "cell_type": "code",
   "execution_count": 1,
   "id": "f83e9ebf",
   "metadata": {},
   "outputs": [],
   "source": [
    "# Installs\n",
    "# %pip install pandas\n",
    "# %pip install pyarrow\n",
    "# %pip install fsspec\n",
    "# %pip install huggingface-hub\n",
    "# %pip install matplotlib\n",
    "# %pip install tqdm\n",
    "# %pip install ipywidgets\n",
    "# %pip install fastapi uvicorn chromadb requests\n",
    "# %pip install \"uvicorn[standard]\""
   ]
  },
  {
   "cell_type": "code",
   "execution_count": 2,
   "id": "b5b4f2bb",
   "metadata": {},
   "outputs": [],
   "source": [
    "# !ollama pull nomic-embed-text"
   ]
  },
  {
   "cell_type": "code",
   "execution_count": 3,
   "id": "7c8eb43b",
   "metadata": {},
   "outputs": [],
   "source": [
    "from tqdm.notebook import tqdm\n",
    "tqdm.pandas()"
   ]
  },
  {
   "cell_type": "code",
   "execution_count": 4,
   "id": "3dcdab9b",
   "metadata": {},
   "outputs": [
    {
     "name": "stdout",
     "output_type": "stream",
     "text": [
      "(3200, 1)\n"
     ]
    }
   ],
   "source": [
    "import pandas as pd\n",
    "\n",
    "LOCAL_FNAME = \"./LOCAL/raw.parquet\"\n",
    "\n",
    "try:\n",
    "    df = pd.read_parquet(LOCAL_FNAME)\n",
    "except:\n",
    "    print(\"File not found, downloading...\")\n",
    "    df = pd.read_parquet(\"hf://datasets/rag-datasets/rag-mini-wikipedia/data/passages.parquet/part.0.parquet\")\n",
    "    df.to_parquet(\"./LOCAL/raw.parquet\")\n",
    "\n",
    "print(df.shape)"
   ]
  },
  {
   "cell_type": "code",
   "execution_count": null,
   "id": "425169ca",
   "metadata": {},
   "outputs": [],
   "source": []
  },
  {
   "cell_type": "code",
   "execution_count": 6,
   "id": "feb54302",
   "metadata": {},
   "outputs": [],
   "source": [
    "# len(df['passage'][0])\n",
    "# df['passage'].apply(lambda x: len(x)).hist()"
   ]
  },
  {
   "cell_type": "code",
   "execution_count": 7,
   "id": "d8af5420",
   "metadata": {},
   "outputs": [
    {
     "data": {
      "text/plain": [
       "'Uruguay (official full name in  ; pron.  , Eastern Republic of  Uruguay) is a country located in the southeastern part of South America.  It is home to 3.3 million people, of which 1.7 million live in the capital Montevideo and its metropolitan area.'"
      ]
     },
     "execution_count": 7,
     "metadata": {},
     "output_type": "execute_result"
    }
   ],
   "source": [
    "df['passage'].iloc[0]"
   ]
  },
  {
   "cell_type": "code",
   "execution_count": 8,
   "id": "90b004d8",
   "metadata": {},
   "outputs": [],
   "source": [
    "import requests\n",
    "\n",
    "def get_embedding(text, model='nomic-embed-text'):\n",
    "    url = 'http://localhost:11434/api/embeddings'\n",
    "    data = {\n",
    "        \"model\": model,\n",
    "        \"prompt\": text\n",
    "    }\n",
    "    response = requests.post(url, json=data)\n",
    "    response.raise_for_status()\n",
    "    return response.json()['embedding']\n",
    "\n",
    "# Example usage:\n",
    "embedding = get_embedding(df.iloc[0]['passage'])"
   ]
  },
  {
   "cell_type": "code",
   "execution_count": 9,
   "id": "2318109f",
   "metadata": {},
   "outputs": [],
   "source": [
    "try:\n",
    "    df = pd.read_parquet(\"./LOCAL/processed.parquet\")\n",
    "except: \n",
    "    df['embedding'] = df['passage'].progress_apply(lambda x: get_embedding(x))\n",
    "    df.to_parquet(\"./LOCAL/processed.parquet\")"
   ]
  },
  {
   "cell_type": "code",
   "execution_count": null,
   "id": "7f1b3b10",
   "metadata": {},
   "outputs": [],
   "source": [
    "import chromadb\n",
    "\n",
    "client = chromadb.PersistentClient(path=\"./LOCAL/chroma_db\")  \n",
    "collection = client.create_collection(\"chunks\")\n",
    "\n",
    "# Add vectors\n",
    "collection.add(\n",
    "    embeddings=df[\"embedding\"].to_list(),\n",
    "    documents=df[\"passage\"].to_list(),\n",
    "    ids=[str(val) for val in df.index]\n",
    ")"
   ]
  },
  {
   "cell_type": "code",
   "execution_count": 11,
   "id": "8ccc201a",
   "metadata": {},
   "outputs": [],
   "source": [
    "# Query\n",
    "results = collection.query(\n",
    "    query_embeddings=embedding,\n",
    "    n_results=5\n",
    ")"
   ]
  },
  {
   "cell_type": "code",
   "execution_count": null,
   "id": "ec640196",
   "metadata": {},
   "outputs": [],
   "source": [
    "# // Example using fetch in React\n",
    "# async function queryChroma(query) {\n",
    "#   const res = await fetch('http://localhost:8000/query', {\n",
    "#     method: 'POST',\n",
    "#     headers: { 'Content-Type': 'application/json' },\n",
    "#     body: JSON.stringify({ query }),\n",
    "#   });\n",
    "#   const data = await res.json();\n",
    "#   return data; // contains the Chroma results\n",
    "# }"
   ]
  },
  {
   "cell_type": "code",
   "execution_count": null,
   "id": "0a236791",
   "metadata": {},
   "outputs": [],
   "source": [
    "import chromadb\n",
    "from chromadb.config import Settings\n",
    "\n",
    "client = chromadb.Client(Settings(persist_directory=\"LOCAL/chroma_db\"))\n",
    "collection = client.get_or_create_collection(\"test_collection\")\n",
    "collection.add(\n",
    "    embeddings=[[0.1, 0.2, 0.3]],\n",
    "    documents=[\"test document\"],\n",
    "    ids=[\"1\"]\n",
    ")"
   ]
  },
  {
   "cell_type": "code",
   "execution_count": null,
   "id": "1af2fcf9",
   "metadata": {},
   "outputs": [],
   "source": [
    "import chromadb\n",
    "from chromadb.config import Settings\n",
    "\n",
    "client = chromadb.Client(Settings(persist_directory=\"chroma\"))\n",
    "collection = client.get_or_create_collection(\"test_collection\", persist_directory=\"LOCAL/chroma\")"
   ]
  },
  {
   "cell_type": "code",
   "execution_count": null,
   "id": "8e504c6a",
   "metadata": {},
   "outputs": [],
   "source": [
    "import chromadb\n",
    "\n",
    "client = chromadb.PersistentClient(path=\"./LOCAL/chroma_db\")  \n",
    "\n",
    "collection = client.get_or_create_collection(\"test_collection\")\n",
    "collection.add(\n",
    "    embeddings=[[0.1, 0.2, 0.3]],\n",
    "    documents=[\"test document\"],\n",
    "    ids=[\"1\"]\n",
    ")\n",
    "\n",
    "# Save to disk\n",
    "# client.persist()\n"
   ]
  },
  {
   "cell_type": "code",
   "execution_count": null,
   "id": "249dccf5",
   "metadata": {},
   "outputs": [],
   "source": [
    "print(client._settings)"
   ]
  },
  {
   "cell_type": "code",
   "execution_count": null,
   "id": "f46a55bd",
   "metadata": {},
   "outputs": [],
   "source": [
    "!mkdir LOCAL/chroma"
   ]
  },
  {
   "cell_type": "code",
   "execution_count": null,
   "id": "74bf1921",
   "metadata": {},
   "outputs": [],
   "source": []
  }
 ],
 "metadata": {
  "kernelspec": {
   "display_name": ".venv",
   "language": "python",
   "name": "python3"
  },
  "language_info": {
   "codemirror_mode": {
    "name": "ipython",
    "version": 3
   },
   "file_extension": ".py",
   "mimetype": "text/x-python",
   "name": "python",
   "nbconvert_exporter": "python",
   "pygments_lexer": "ipython3",
   "version": "3.12.0"
  }
 },
 "nbformat": 4,
 "nbformat_minor": 5
}
